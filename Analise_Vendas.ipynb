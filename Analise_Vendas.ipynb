{
  "nbformat": 4,
  "nbformat_minor": 0,
  "metadata": {
    "colab": {
      "provenance": []
    },
    "kernelspec": {
      "name": "python3",
      "display_name": "Python 3"
    },
    "language_info": {
      "name": "python"
    }
  },
  "cells": [
    {
      "cell_type": "code",
      "source": [
        "import pandas as pd\n",
        "import numpy as np\n",
        "print(pd.__version__)\n",
        "print(np.__version__)"
      ],
      "metadata": {
        "id": "me6smv-RAFgu"
      },
      "execution_count": null,
      "outputs": []
    },
    {
      "cell_type": "code",
      "source": [
        "dataset_vendas = pd.read_csv(\"/content/planilha_vendas_1000_linhas.csv\")"
      ],
      "metadata": {
        "id": "yNqQtKK1API-"
      },
      "execution_count": 4,
      "outputs": []
    },
    {
      "cell_type": "code",
      "source": [
        "dataset_vendas"
      ],
      "metadata": {
        "id": "M3zuSxFDAVrX"
      },
      "execution_count": null,
      "outputs": []
    },
    {
      "cell_type": "code",
      "source": [
        "type_venda = dataset_vendas[\"Data da Venda\"]\n",
        "type(type_venda)"
      ],
      "metadata": {
        "id": "lxrlGEMYBzec"
      },
      "execution_count": null,
      "outputs": []
    },
    {
      "cell_type": "code",
      "source": [
        "dataset_vendas.head()"
      ],
      "metadata": {
        "id": "uQMUHqN3BB_t"
      },
      "execution_count": null,
      "outputs": []
    },
    {
      "cell_type": "code",
      "source": [
        "dataset_vendas.tail()"
      ],
      "metadata": {
        "id": "GAtDzzWxBEIW"
      },
      "execution_count": null,
      "outputs": []
    },
    {
      "cell_type": "code",
      "source": [
        "dataset_vendas.info()"
      ],
      "metadata": {
        "id": "BvooEb4gBGuS"
      },
      "execution_count": null,
      "outputs": []
    },
    {
      "cell_type": "code",
      "source": [
        "dataset_vendas.describe()"
      ],
      "metadata": {
        "id": "A_VaZLhGBLUg"
      },
      "execution_count": null,
      "outputs": []
    },
    {
      "cell_type": "code",
      "source": [
        "dataset_vendas.isnull().sum()"
      ],
      "metadata": {
        "id": "6nciM6bHAmRp"
      },
      "execution_count": null,
      "outputs": []
    },
    {
      "cell_type": "code",
      "source": [
        "dataset_vendas.columns"
      ],
      "metadata": {
        "id": "Hbw-QUL4A2I_"
      },
      "execution_count": null,
      "outputs": []
    },
    {
      "cell_type": "code",
      "source": [
        "dataset_vendas[\"Data da Venda\"] = pd.to_datetime(dataset_vendas[\"Data da Venda\"])"
      ],
      "metadata": {
        "id": "BhlDXA4xBSgK"
      },
      "execution_count": 23,
      "outputs": []
    },
    {
      "cell_type": "code",
      "source": [
        "dataset_vendas['Data da Venda'].dt.month"
      ],
      "metadata": {
        "id": "0-bVCDKxCipa"
      },
      "execution_count": null,
      "outputs": []
    },
    {
      "cell_type": "code",
      "source": [
        "dataset_vendas['Data da Venda'].dt.year"
      ],
      "metadata": {
        "id": "2DPLlBO_CnCV"
      },
      "execution_count": null,
      "outputs": []
    },
    {
      "cell_type": "code",
      "source": [
        "dataset_vendas['Data da Venda'].dt.day_name()"
      ],
      "metadata": {
        "id": "GgmpQdJ0CoJN"
      },
      "execution_count": null,
      "outputs": []
    },
    {
      "cell_type": "code",
      "source": [
        "dataset_vendas.dtypes"
      ],
      "metadata": {
        "id": "jksRofvqCZry"
      },
      "execution_count": null,
      "outputs": []
    },
    {
      "cell_type": "code",
      "source": [
        "dataset_vendas['Valor Total (R$)'].sum()"
      ],
      "metadata": {
        "id": "9CPaJq3fAxCJ"
      },
      "execution_count": null,
      "outputs": []
    },
    {
      "cell_type": "code",
      "source": [
        "dataset_vendas.groupby(\"Produto\")[[\"Quantidade\", \"Valor Total (R$)\"]].sum().round(2).sort_values(by='Valor Total (R$)', ascending = False)"
      ],
      "metadata": {
        "id": "wMkeqBvGCzbG"
      },
      "execution_count": null,
      "outputs": []
    },
    {
      "cell_type": "code",
      "source": [
        "dataset_vendas[\"Mês\"] = dataset_vendas[\"Data da Venda\"].dt.to_period(\"M\")"
      ],
      "metadata": {
        "id": "od59drKfDuQY"
      },
      "execution_count": 36,
      "outputs": []
    },
    {
      "cell_type": "code",
      "source": [
        "dataset_vendas.groupby(\"Mês\")[\"Valor Total (R$)\"].sum().plot(kind='bar')"
      ],
      "metadata": {
        "id": "JMPpynXrD1o_"
      },
      "execution_count": null,
      "outputs": []
    },
    {
      "cell_type": "code",
      "source": [
        "dataset_vendas.groupby(\"UF\")[\"Valor Total (R$)\"].sum().sort_values(ascending = False).head(5)"
      ],
      "metadata": {
        "id": "uVOVjJMuEfnF"
      },
      "execution_count": null,
      "outputs": []
    },
    {
      "cell_type": "code",
      "source": [
        "dataset_vendas.groupby(\"Cidade\")[\"Valor Total (R$)\"].sum().sort_values(ascending = False).head(5)"
      ],
      "metadata": {
        "id": "gj0JgocGE3K5"
      },
      "execution_count": null,
      "outputs": []
    },
    {
      "cell_type": "code",
      "source": [
        "dataset_vendas.groupby('Categoria')['Valor Total (R$)'].sum().plot(kind='pie', autopct='%1.1f%%', figsize=(7,7))"
      ],
      "metadata": {
        "id": "z5DrmYqwFGbJ"
      },
      "execution_count": null,
      "outputs": []
    },
    {
      "cell_type": "code",
      "source": [
        "clientes_vip = dataset_vendas.groupby(\"Cliente\")[\"Valor Total (R$)\"].sum().sort_values(ascending = False)\n",
        "clientes_vip"
      ],
      "metadata": {
        "id": "z4iL8IF4FNlk"
      },
      "execution_count": null,
      "outputs": []
    },
    {
      "cell_type": "code",
      "source": [
        "clientes_vip[clientes_vip > 1000].sort_values(ascending = False)"
      ],
      "metadata": {
        "id": "haRtTuPDFe3g"
      },
      "execution_count": null,
      "outputs": []
    }
  ]
}