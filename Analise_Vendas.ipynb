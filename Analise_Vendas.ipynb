{
  "cells": [
    {
      "cell_type": "code",
      "execution_count": 5,
      "metadata": {
        "id": "me6smv-RAFgu"
      },
      "outputs": [
        {
          "name": "stdout",
          "output_type": "stream",
          "text": [
            "2.2.2\n",
            "1.26.4\n"
          ]
        }
      ],
      "source": [
        "import pandas as pd\n",
        "import numpy as np\n",
        "print(pd.__version__)\n",
        "print(np.__version__)"
      ]
    },
    {
      "cell_type": "code",
      "execution_count": 6,
      "metadata": {
        "id": "yNqQtKK1API-"
      },
      "outputs": [],
      "source": [
        "dataset_vendas = pd.read_csv(\"planilha_vendas_1000_linhas.csv\")"
      ]
    },
    {
      "cell_type": "code",
      "execution_count": 7,
      "metadata": {
        "id": "M3zuSxFDAVrX"
      },
      "outputs": [
        {
          "data": {
            "text/html": [
              "<div>\n",
              "<style scoped>\n",
              "    .dataframe tbody tr th:only-of-type {\n",
              "        vertical-align: middle;\n",
              "    }\n",
              "\n",
              "    .dataframe tbody tr th {\n",
              "        vertical-align: top;\n",
              "    }\n",
              "\n",
              "    .dataframe thead th {\n",
              "        text-align: right;\n",
              "    }\n",
              "</style>\n",
              "<table border=\"1\" class=\"dataframe\">\n",
              "  <thead>\n",
              "    <tr style=\"text-align: right;\">\n",
              "      <th></th>\n",
              "      <th>Data da Venda</th>\n",
              "      <th>Produto</th>\n",
              "      <th>Categoria</th>\n",
              "      <th>Quantidade</th>\n",
              "      <th>Preço Unitário (R$)</th>\n",
              "      <th>Cliente</th>\n",
              "      <th>Cidade</th>\n",
              "      <th>UF</th>\n",
              "      <th>Valor Total (R$)</th>\n",
              "    </tr>\n",
              "  </thead>\n",
              "  <tbody>\n",
              "    <tr>\n",
              "      <th>0</th>\n",
              "      <td>2024-09-28</td>\n",
              "      <td>Boné</td>\n",
              "      <td>Acessórios</td>\n",
              "      <td>1</td>\n",
              "      <td>298.65</td>\n",
              "      <td>Tammy Fleming</td>\n",
              "      <td>North Christineburgh</td>\n",
              "      <td>SD</td>\n",
              "      <td>298.65</td>\n",
              "    </tr>\n",
              "    <tr>\n",
              "      <th>1</th>\n",
              "      <td>2024-12-11</td>\n",
              "      <td>Jaqueta</td>\n",
              "      <td>Vestuário</td>\n",
              "      <td>1</td>\n",
              "      <td>171.29</td>\n",
              "      <td>Joshua Jackson</td>\n",
              "      <td>Port Lauren</td>\n",
              "      <td>ME</td>\n",
              "      <td>171.29</td>\n",
              "    </tr>\n",
              "    <tr>\n",
              "      <th>2</th>\n",
              "      <td>2024-12-14</td>\n",
              "      <td>Óculos de Sol</td>\n",
              "      <td>Acessórios</td>\n",
              "      <td>4</td>\n",
              "      <td>241.68</td>\n",
              "      <td>Linda Hunt</td>\n",
              "      <td>Sarahport</td>\n",
              "      <td>UT</td>\n",
              "      <td>966.72</td>\n",
              "    </tr>\n",
              "    <tr>\n",
              "      <th>3</th>\n",
              "      <td>2024-10-29</td>\n",
              "      <td>Camiseta</td>\n",
              "      <td>Vestuário</td>\n",
              "      <td>4</td>\n",
              "      <td>217.06</td>\n",
              "      <td>Matthew Green</td>\n",
              "      <td>East Mark</td>\n",
              "      <td>NE</td>\n",
              "      <td>868.24</td>\n",
              "    </tr>\n",
              "    <tr>\n",
              "      <th>4</th>\n",
              "      <td>2025-05-07</td>\n",
              "      <td>Camiseta</td>\n",
              "      <td>Vestuário</td>\n",
              "      <td>4</td>\n",
              "      <td>195.51</td>\n",
              "      <td>Anna Waters</td>\n",
              "      <td>Martinview</td>\n",
              "      <td>NH</td>\n",
              "      <td>782.04</td>\n",
              "    </tr>\n",
              "    <tr>\n",
              "      <th>...</th>\n",
              "      <td>...</td>\n",
              "      <td>...</td>\n",
              "      <td>...</td>\n",
              "      <td>...</td>\n",
              "      <td>...</td>\n",
              "      <td>...</td>\n",
              "      <td>...</td>\n",
              "      <td>...</td>\n",
              "      <td>...</td>\n",
              "    </tr>\n",
              "    <tr>\n",
              "      <th>995</th>\n",
              "      <td>2025-05-02</td>\n",
              "      <td>Óculos de Sol</td>\n",
              "      <td>Acessórios</td>\n",
              "      <td>4</td>\n",
              "      <td>356.62</td>\n",
              "      <td>Karen Rogers</td>\n",
              "      <td>East Nathan</td>\n",
              "      <td>NH</td>\n",
              "      <td>1426.48</td>\n",
              "    </tr>\n",
              "    <tr>\n",
              "      <th>996</th>\n",
              "      <td>2025-04-05</td>\n",
              "      <td>Boné</td>\n",
              "      <td>Acessórios</td>\n",
              "      <td>4</td>\n",
              "      <td>450.86</td>\n",
              "      <td>Stacy Carroll</td>\n",
              "      <td>New Joelburgh</td>\n",
              "      <td>AL</td>\n",
              "      <td>1803.44</td>\n",
              "    </tr>\n",
              "    <tr>\n",
              "      <th>997</th>\n",
              "      <td>2024-08-21</td>\n",
              "      <td>Camiseta</td>\n",
              "      <td>Vestuário</td>\n",
              "      <td>5</td>\n",
              "      <td>96.75</td>\n",
              "      <td>Brooke Graham</td>\n",
              "      <td>South Deborahmouth</td>\n",
              "      <td>TN</td>\n",
              "      <td>483.75</td>\n",
              "    </tr>\n",
              "    <tr>\n",
              "      <th>998</th>\n",
              "      <td>2024-10-17</td>\n",
              "      <td>Jaqueta</td>\n",
              "      <td>Vestuário</td>\n",
              "      <td>4</td>\n",
              "      <td>448.61</td>\n",
              "      <td>Jeffrey Travis</td>\n",
              "      <td>South Jason</td>\n",
              "      <td>VT</td>\n",
              "      <td>1794.44</td>\n",
              "    </tr>\n",
              "    <tr>\n",
              "      <th>999</th>\n",
              "      <td>2024-07-28</td>\n",
              "      <td>Calça Jeans</td>\n",
              "      <td>Vestuário</td>\n",
              "      <td>1</td>\n",
              "      <td>119.34</td>\n",
              "      <td>Becky Velasquez</td>\n",
              "      <td>Heatherview</td>\n",
              "      <td>WI</td>\n",
              "      <td>119.34</td>\n",
              "    </tr>\n",
              "  </tbody>\n",
              "</table>\n",
              "<p>1000 rows × 9 columns</p>\n",
              "</div>"
            ],
            "text/plain": [
              "    Data da Venda        Produto   Categoria  Quantidade  Preço Unitário (R$)  \\\n",
              "0      2024-09-28           Boné  Acessórios           1               298.65   \n",
              "1      2024-12-11        Jaqueta   Vestuário           1               171.29   \n",
              "2      2024-12-14  Óculos de Sol  Acessórios           4               241.68   \n",
              "3      2024-10-29       Camiseta   Vestuário           4               217.06   \n",
              "4      2025-05-07       Camiseta   Vestuário           4               195.51   \n",
              "..            ...            ...         ...         ...                  ...   \n",
              "995    2025-05-02  Óculos de Sol  Acessórios           4               356.62   \n",
              "996    2025-04-05           Boné  Acessórios           4               450.86   \n",
              "997    2024-08-21       Camiseta   Vestuário           5                96.75   \n",
              "998    2024-10-17        Jaqueta   Vestuário           4               448.61   \n",
              "999    2024-07-28    Calça Jeans   Vestuário           1               119.34   \n",
              "\n",
              "             Cliente                Cidade  UF  Valor Total (R$)  \n",
              "0      Tammy Fleming  North Christineburgh  SD            298.65  \n",
              "1     Joshua Jackson           Port Lauren  ME            171.29  \n",
              "2         Linda Hunt             Sarahport  UT            966.72  \n",
              "3      Matthew Green             East Mark  NE            868.24  \n",
              "4        Anna Waters            Martinview  NH            782.04  \n",
              "..               ...                   ...  ..               ...  \n",
              "995     Karen Rogers           East Nathan  NH           1426.48  \n",
              "996    Stacy Carroll         New Joelburgh  AL           1803.44  \n",
              "997    Brooke Graham    South Deborahmouth  TN            483.75  \n",
              "998   Jeffrey Travis           South Jason  VT           1794.44  \n",
              "999  Becky Velasquez           Heatherview  WI            119.34  \n",
              "\n",
              "[1000 rows x 9 columns]"
            ]
          },
          "execution_count": 7,
          "metadata": {},
          "output_type": "execute_result"
        }
      ],
      "source": [
        "dataset_vendas"
      ]
    },
    {
      "cell_type": "code",
      "execution_count": 8,
      "metadata": {
        "id": "lxrlGEMYBzec"
      },
      "outputs": [
        {
          "data": {
            "text/plain": [
              "pandas.core.series.Series"
            ]
          },
          "execution_count": 8,
          "metadata": {},
          "output_type": "execute_result"
        }
      ],
      "source": [
        "type_venda = dataset_vendas[\"Data da Venda\"]\n",
        "type(type_venda)"
      ]
    },
    {
      "cell_type": "code",
      "execution_count": 9,
      "metadata": {
        "id": "uQMUHqN3BB_t"
      },
      "outputs": [
        {
          "data": {
            "text/html": [
              "<div>\n",
              "<style scoped>\n",
              "    .dataframe tbody tr th:only-of-type {\n",
              "        vertical-align: middle;\n",
              "    }\n",
              "\n",
              "    .dataframe tbody tr th {\n",
              "        vertical-align: top;\n",
              "    }\n",
              "\n",
              "    .dataframe thead th {\n",
              "        text-align: right;\n",
              "    }\n",
              "</style>\n",
              "<table border=\"1\" class=\"dataframe\">\n",
              "  <thead>\n",
              "    <tr style=\"text-align: right;\">\n",
              "      <th></th>\n",
              "      <th>Data da Venda</th>\n",
              "      <th>Produto</th>\n",
              "      <th>Categoria</th>\n",
              "      <th>Quantidade</th>\n",
              "      <th>Preço Unitário (R$)</th>\n",
              "      <th>Cliente</th>\n",
              "      <th>Cidade</th>\n",
              "      <th>UF</th>\n",
              "      <th>Valor Total (R$)</th>\n",
              "    </tr>\n",
              "  </thead>\n",
              "  <tbody>\n",
              "    <tr>\n",
              "      <th>0</th>\n",
              "      <td>2024-09-28</td>\n",
              "      <td>Boné</td>\n",
              "      <td>Acessórios</td>\n",
              "      <td>1</td>\n",
              "      <td>298.65</td>\n",
              "      <td>Tammy Fleming</td>\n",
              "      <td>North Christineburgh</td>\n",
              "      <td>SD</td>\n",
              "      <td>298.65</td>\n",
              "    </tr>\n",
              "    <tr>\n",
              "      <th>1</th>\n",
              "      <td>2024-12-11</td>\n",
              "      <td>Jaqueta</td>\n",
              "      <td>Vestuário</td>\n",
              "      <td>1</td>\n",
              "      <td>171.29</td>\n",
              "      <td>Joshua Jackson</td>\n",
              "      <td>Port Lauren</td>\n",
              "      <td>ME</td>\n",
              "      <td>171.29</td>\n",
              "    </tr>\n",
              "    <tr>\n",
              "      <th>2</th>\n",
              "      <td>2024-12-14</td>\n",
              "      <td>Óculos de Sol</td>\n",
              "      <td>Acessórios</td>\n",
              "      <td>4</td>\n",
              "      <td>241.68</td>\n",
              "      <td>Linda Hunt</td>\n",
              "      <td>Sarahport</td>\n",
              "      <td>UT</td>\n",
              "      <td>966.72</td>\n",
              "    </tr>\n",
              "    <tr>\n",
              "      <th>3</th>\n",
              "      <td>2024-10-29</td>\n",
              "      <td>Camiseta</td>\n",
              "      <td>Vestuário</td>\n",
              "      <td>4</td>\n",
              "      <td>217.06</td>\n",
              "      <td>Matthew Green</td>\n",
              "      <td>East Mark</td>\n",
              "      <td>NE</td>\n",
              "      <td>868.24</td>\n",
              "    </tr>\n",
              "    <tr>\n",
              "      <th>4</th>\n",
              "      <td>2025-05-07</td>\n",
              "      <td>Camiseta</td>\n",
              "      <td>Vestuário</td>\n",
              "      <td>4</td>\n",
              "      <td>195.51</td>\n",
              "      <td>Anna Waters</td>\n",
              "      <td>Martinview</td>\n",
              "      <td>NH</td>\n",
              "      <td>782.04</td>\n",
              "    </tr>\n",
              "  </tbody>\n",
              "</table>\n",
              "</div>"
            ],
            "text/plain": [
              "  Data da Venda        Produto   Categoria  Quantidade  Preço Unitário (R$)  \\\n",
              "0    2024-09-28           Boné  Acessórios           1               298.65   \n",
              "1    2024-12-11        Jaqueta   Vestuário           1               171.29   \n",
              "2    2024-12-14  Óculos de Sol  Acessórios           4               241.68   \n",
              "3    2024-10-29       Camiseta   Vestuário           4               217.06   \n",
              "4    2025-05-07       Camiseta   Vestuário           4               195.51   \n",
              "\n",
              "          Cliente                Cidade  UF  Valor Total (R$)  \n",
              "0   Tammy Fleming  North Christineburgh  SD            298.65  \n",
              "1  Joshua Jackson           Port Lauren  ME            171.29  \n",
              "2      Linda Hunt             Sarahport  UT            966.72  \n",
              "3   Matthew Green             East Mark  NE            868.24  \n",
              "4     Anna Waters            Martinview  NH            782.04  "
            ]
          },
          "execution_count": 9,
          "metadata": {},
          "output_type": "execute_result"
        }
      ],
      "source": [
        "dataset_vendas.head()"
      ]
    },
    {
      "cell_type": "code",
      "execution_count": 10,
      "metadata": {
        "id": "GAtDzzWxBEIW"
      },
      "outputs": [
        {
          "data": {
            "text/html": [
              "<div>\n",
              "<style scoped>\n",
              "    .dataframe tbody tr th:only-of-type {\n",
              "        vertical-align: middle;\n",
              "    }\n",
              "\n",
              "    .dataframe tbody tr th {\n",
              "        vertical-align: top;\n",
              "    }\n",
              "\n",
              "    .dataframe thead th {\n",
              "        text-align: right;\n",
              "    }\n",
              "</style>\n",
              "<table border=\"1\" class=\"dataframe\">\n",
              "  <thead>\n",
              "    <tr style=\"text-align: right;\">\n",
              "      <th></th>\n",
              "      <th>Data da Venda</th>\n",
              "      <th>Produto</th>\n",
              "      <th>Categoria</th>\n",
              "      <th>Quantidade</th>\n",
              "      <th>Preço Unitário (R$)</th>\n",
              "      <th>Cliente</th>\n",
              "      <th>Cidade</th>\n",
              "      <th>UF</th>\n",
              "      <th>Valor Total (R$)</th>\n",
              "    </tr>\n",
              "  </thead>\n",
              "  <tbody>\n",
              "    <tr>\n",
              "      <th>995</th>\n",
              "      <td>2025-05-02</td>\n",
              "      <td>Óculos de Sol</td>\n",
              "      <td>Acessórios</td>\n",
              "      <td>4</td>\n",
              "      <td>356.62</td>\n",
              "      <td>Karen Rogers</td>\n",
              "      <td>East Nathan</td>\n",
              "      <td>NH</td>\n",
              "      <td>1426.48</td>\n",
              "    </tr>\n",
              "    <tr>\n",
              "      <th>996</th>\n",
              "      <td>2025-04-05</td>\n",
              "      <td>Boné</td>\n",
              "      <td>Acessórios</td>\n",
              "      <td>4</td>\n",
              "      <td>450.86</td>\n",
              "      <td>Stacy Carroll</td>\n",
              "      <td>New Joelburgh</td>\n",
              "      <td>AL</td>\n",
              "      <td>1803.44</td>\n",
              "    </tr>\n",
              "    <tr>\n",
              "      <th>997</th>\n",
              "      <td>2024-08-21</td>\n",
              "      <td>Camiseta</td>\n",
              "      <td>Vestuário</td>\n",
              "      <td>5</td>\n",
              "      <td>96.75</td>\n",
              "      <td>Brooke Graham</td>\n",
              "      <td>South Deborahmouth</td>\n",
              "      <td>TN</td>\n",
              "      <td>483.75</td>\n",
              "    </tr>\n",
              "    <tr>\n",
              "      <th>998</th>\n",
              "      <td>2024-10-17</td>\n",
              "      <td>Jaqueta</td>\n",
              "      <td>Vestuário</td>\n",
              "      <td>4</td>\n",
              "      <td>448.61</td>\n",
              "      <td>Jeffrey Travis</td>\n",
              "      <td>South Jason</td>\n",
              "      <td>VT</td>\n",
              "      <td>1794.44</td>\n",
              "    </tr>\n",
              "    <tr>\n",
              "      <th>999</th>\n",
              "      <td>2024-07-28</td>\n",
              "      <td>Calça Jeans</td>\n",
              "      <td>Vestuário</td>\n",
              "      <td>1</td>\n",
              "      <td>119.34</td>\n",
              "      <td>Becky Velasquez</td>\n",
              "      <td>Heatherview</td>\n",
              "      <td>WI</td>\n",
              "      <td>119.34</td>\n",
              "    </tr>\n",
              "  </tbody>\n",
              "</table>\n",
              "</div>"
            ],
            "text/plain": [
              "    Data da Venda        Produto   Categoria  Quantidade  Preço Unitário (R$)  \\\n",
              "995    2025-05-02  Óculos de Sol  Acessórios           4               356.62   \n",
              "996    2025-04-05           Boné  Acessórios           4               450.86   \n",
              "997    2024-08-21       Camiseta   Vestuário           5                96.75   \n",
              "998    2024-10-17        Jaqueta   Vestuário           4               448.61   \n",
              "999    2024-07-28    Calça Jeans   Vestuário           1               119.34   \n",
              "\n",
              "             Cliente              Cidade  UF  Valor Total (R$)  \n",
              "995     Karen Rogers         East Nathan  NH           1426.48  \n",
              "996    Stacy Carroll       New Joelburgh  AL           1803.44  \n",
              "997    Brooke Graham  South Deborahmouth  TN            483.75  \n",
              "998   Jeffrey Travis         South Jason  VT           1794.44  \n",
              "999  Becky Velasquez         Heatherview  WI            119.34  "
            ]
          },
          "execution_count": 10,
          "metadata": {},
          "output_type": "execute_result"
        }
      ],
      "source": [
        "dataset_vendas.tail()"
      ]
    },
    {
      "cell_type": "code",
      "execution_count": 11,
      "metadata": {
        "id": "BvooEb4gBGuS"
      },
      "outputs": [
        {
          "name": "stdout",
          "output_type": "stream",
          "text": [
            "<class 'pandas.core.frame.DataFrame'>\n",
            "RangeIndex: 1000 entries, 0 to 999\n",
            "Data columns (total 9 columns):\n",
            " #   Column               Non-Null Count  Dtype  \n",
            "---  ------               --------------  -----  \n",
            " 0   Data da Venda        1000 non-null   object \n",
            " 1   Produto              1000 non-null   object \n",
            " 2   Categoria            1000 non-null   object \n",
            " 3   Quantidade           1000 non-null   int64  \n",
            " 4   Preço Unitário (R$)  1000 non-null   float64\n",
            " 5   Cliente              1000 non-null   object \n",
            " 6   Cidade               1000 non-null   object \n",
            " 7   UF                   1000 non-null   object \n",
            " 8   Valor Total (R$)     1000 non-null   float64\n",
            "dtypes: float64(2), int64(1), object(6)\n",
            "memory usage: 70.4+ KB\n"
          ]
        }
      ],
      "source": [
        "dataset_vendas.info()"
      ]
    },
    {
      "cell_type": "code",
      "execution_count": 12,
      "metadata": {
        "id": "A_VaZLhGBLUg"
      },
      "outputs": [
        {
          "data": {
            "text/html": [
              "<div>\n",
              "<style scoped>\n",
              "    .dataframe tbody tr th:only-of-type {\n",
              "        vertical-align: middle;\n",
              "    }\n",
              "\n",
              "    .dataframe tbody tr th {\n",
              "        vertical-align: top;\n",
              "    }\n",
              "\n",
              "    .dataframe thead th {\n",
              "        text-align: right;\n",
              "    }\n",
              "</style>\n",
              "<table border=\"1\" class=\"dataframe\">\n",
              "  <thead>\n",
              "    <tr style=\"text-align: right;\">\n",
              "      <th></th>\n",
              "      <th>Quantidade</th>\n",
              "      <th>Preço Unitário (R$)</th>\n",
              "      <th>Valor Total (R$)</th>\n",
              "    </tr>\n",
              "  </thead>\n",
              "  <tbody>\n",
              "    <tr>\n",
              "      <th>count</th>\n",
              "      <td>1000.000000</td>\n",
              "      <td>1000.000000</td>\n",
              "      <td>1000.00000</td>\n",
              "    </tr>\n",
              "    <tr>\n",
              "      <th>mean</th>\n",
              "      <td>2.974000</td>\n",
              "      <td>271.555180</td>\n",
              "      <td>813.14644</td>\n",
              "    </tr>\n",
              "    <tr>\n",
              "      <th>std</th>\n",
              "      <td>1.444788</td>\n",
              "      <td>136.130632</td>\n",
              "      <td>607.18979</td>\n",
              "    </tr>\n",
              "    <tr>\n",
              "      <th>min</th>\n",
              "      <td>1.000000</td>\n",
              "      <td>30.090000</td>\n",
              "      <td>30.40000</td>\n",
              "    </tr>\n",
              "    <tr>\n",
              "      <th>25%</th>\n",
              "      <td>2.000000</td>\n",
              "      <td>149.925000</td>\n",
              "      <td>314.35500</td>\n",
              "    </tr>\n",
              "    <tr>\n",
              "      <th>50%</th>\n",
              "      <td>3.000000</td>\n",
              "      <td>273.925000</td>\n",
              "      <td>645.19000</td>\n",
              "    </tr>\n",
              "    <tr>\n",
              "      <th>75%</th>\n",
              "      <td>4.000000</td>\n",
              "      <td>389.530000</td>\n",
              "      <td>1227.60000</td>\n",
              "    </tr>\n",
              "    <tr>\n",
              "      <th>max</th>\n",
              "      <td>5.000000</td>\n",
              "      <td>499.990000</td>\n",
              "      <td>2464.20000</td>\n",
              "    </tr>\n",
              "  </tbody>\n",
              "</table>\n",
              "</div>"
            ],
            "text/plain": [
              "        Quantidade  Preço Unitário (R$)  Valor Total (R$)\n",
              "count  1000.000000          1000.000000        1000.00000\n",
              "mean      2.974000           271.555180         813.14644\n",
              "std       1.444788           136.130632         607.18979\n",
              "min       1.000000            30.090000          30.40000\n",
              "25%       2.000000           149.925000         314.35500\n",
              "50%       3.000000           273.925000         645.19000\n",
              "75%       4.000000           389.530000        1227.60000\n",
              "max       5.000000           499.990000        2464.20000"
            ]
          },
          "execution_count": 12,
          "metadata": {},
          "output_type": "execute_result"
        }
      ],
      "source": [
        "dataset_vendas.describe()"
      ]
    },
    {
      "cell_type": "code",
      "execution_count": 13,
      "metadata": {
        "id": "6nciM6bHAmRp"
      },
      "outputs": [
        {
          "data": {
            "text/plain": [
              "Data da Venda          0\n",
              "Produto                0\n",
              "Categoria              0\n",
              "Quantidade             0\n",
              "Preço Unitário (R$)    0\n",
              "Cliente                0\n",
              "Cidade                 0\n",
              "UF                     0\n",
              "Valor Total (R$)       0\n",
              "dtype: int64"
            ]
          },
          "execution_count": 13,
          "metadata": {},
          "output_type": "execute_result"
        }
      ],
      "source": [
        "dataset_vendas.isnull().sum()"
      ]
    },
    {
      "cell_type": "code",
      "execution_count": 14,
      "metadata": {
        "id": "Hbw-QUL4A2I_"
      },
      "outputs": [
        {
          "data": {
            "text/plain": [
              "Index(['Data da Venda', 'Produto', 'Categoria', 'Quantidade',\n",
              "       'Preço Unitário (R$)', 'Cliente', 'Cidade', 'UF', 'Valor Total (R$)'],\n",
              "      dtype='object')"
            ]
          },
          "execution_count": 14,
          "metadata": {},
          "output_type": "execute_result"
        }
      ],
      "source": [
        "dataset_vendas.columns"
      ]
    },
    {
      "cell_type": "code",
      "execution_count": 15,
      "metadata": {
        "id": "BhlDXA4xBSgK"
      },
      "outputs": [],
      "source": [
        "dataset_vendas[\"Data da Venda\"] = pd.to_datetime(dataset_vendas[\"Data da Venda\"])"
      ]
    },
    {
      "cell_type": "code",
      "execution_count": 16,
      "metadata": {
        "id": "0-bVCDKxCipa"
      },
      "outputs": [
        {
          "data": {
            "text/plain": [
              "0       9\n",
              "1      12\n",
              "2      12\n",
              "3      10\n",
              "4       5\n",
              "       ..\n",
              "995     5\n",
              "996     4\n",
              "997     8\n",
              "998    10\n",
              "999     7\n",
              "Name: Data da Venda, Length: 1000, dtype: int32"
            ]
          },
          "execution_count": 16,
          "metadata": {},
          "output_type": "execute_result"
        }
      ],
      "source": [
        "dataset_vendas['Data da Venda'].dt.month"
      ]
    },
    {
      "cell_type": "code",
      "execution_count": 17,
      "metadata": {
        "id": "2DPLlBO_CnCV"
      },
      "outputs": [
        {
          "data": {
            "text/plain": [
              "0      2024\n",
              "1      2024\n",
              "2      2024\n",
              "3      2024\n",
              "4      2025\n",
              "       ... \n",
              "995    2025\n",
              "996    2025\n",
              "997    2024\n",
              "998    2024\n",
              "999    2024\n",
              "Name: Data da Venda, Length: 1000, dtype: int32"
            ]
          },
          "execution_count": 17,
          "metadata": {},
          "output_type": "execute_result"
        }
      ],
      "source": [
        "dataset_vendas['Data da Venda'].dt.year"
      ]
    },
    {
      "cell_type": "code",
      "execution_count": 18,
      "metadata": {
        "id": "GgmpQdJ0CoJN"
      },
      "outputs": [
        {
          "data": {
            "text/plain": [
              "0       Saturday\n",
              "1      Wednesday\n",
              "2       Saturday\n",
              "3        Tuesday\n",
              "4      Wednesday\n",
              "         ...    \n",
              "995       Friday\n",
              "996     Saturday\n",
              "997    Wednesday\n",
              "998     Thursday\n",
              "999       Sunday\n",
              "Name: Data da Venda, Length: 1000, dtype: object"
            ]
          },
          "execution_count": 18,
          "metadata": {},
          "output_type": "execute_result"
        }
      ],
      "source": [
        "dataset_vendas['Data da Venda'].dt.day_name()"
      ]
    },
    {
      "cell_type": "code",
      "execution_count": 19,
      "metadata": {
        "id": "jksRofvqCZry"
      },
      "outputs": [
        {
          "data": {
            "text/plain": [
              "Data da Venda          datetime64[ns]\n",
              "Produto                        object\n",
              "Categoria                      object\n",
              "Quantidade                      int64\n",
              "Preço Unitário (R$)           float64\n",
              "Cliente                        object\n",
              "Cidade                         object\n",
              "UF                             object\n",
              "Valor Total (R$)              float64\n",
              "dtype: object"
            ]
          },
          "execution_count": 19,
          "metadata": {},
          "output_type": "execute_result"
        }
      ],
      "source": [
        "dataset_vendas.dtypes"
      ]
    },
    {
      "cell_type": "code",
      "execution_count": 20,
      "metadata": {
        "id": "9CPaJq3fAxCJ"
      },
      "outputs": [
        {
          "data": {
            "text/plain": [
              "813146.44"
            ]
          },
          "execution_count": 20,
          "metadata": {},
          "output_type": "execute_result"
        }
      ],
      "source": [
        "dataset_vendas['Valor Total (R$)'].sum()"
      ]
    },
    {
      "cell_type": "code",
      "execution_count": 21,
      "metadata": {
        "id": "wMkeqBvGCzbG"
      },
      "outputs": [
        {
          "data": {
            "text/html": [
              "<div>\n",
              "<style scoped>\n",
              "    .dataframe tbody tr th:only-of-type {\n",
              "        vertical-align: middle;\n",
              "    }\n",
              "\n",
              "    .dataframe tbody tr th {\n",
              "        vertical-align: top;\n",
              "    }\n",
              "\n",
              "    .dataframe thead th {\n",
              "        text-align: right;\n",
              "    }\n",
              "</style>\n",
              "<table border=\"1\" class=\"dataframe\">\n",
              "  <thead>\n",
              "    <tr style=\"text-align: right;\">\n",
              "      <th></th>\n",
              "      <th>Quantidade</th>\n",
              "      <th>Valor Total (R$)</th>\n",
              "    </tr>\n",
              "    <tr>\n",
              "      <th>Produto</th>\n",
              "      <th></th>\n",
              "      <th></th>\n",
              "    </tr>\n",
              "  </thead>\n",
              "  <tbody>\n",
              "    <tr>\n",
              "      <th>Boné</th>\n",
              "      <td>408</td>\n",
              "      <td>111871.03</td>\n",
              "    </tr>\n",
              "    <tr>\n",
              "      <th>Calça Jeans</th>\n",
              "      <td>374</td>\n",
              "      <td>111731.37</td>\n",
              "    </tr>\n",
              "    <tr>\n",
              "      <th>Jaqueta</th>\n",
              "      <td>371</td>\n",
              "      <td>110633.95</td>\n",
              "    </tr>\n",
              "    <tr>\n",
              "      <th>Tênis</th>\n",
              "      <td>403</td>\n",
              "      <td>109261.13</td>\n",
              "    </tr>\n",
              "    <tr>\n",
              "      <th>Óculos de Sol</th>\n",
              "      <td>405</td>\n",
              "      <td>102118.74</td>\n",
              "    </tr>\n",
              "    <tr>\n",
              "      <th>Relógio</th>\n",
              "      <td>340</td>\n",
              "      <td>89758.33</td>\n",
              "    </tr>\n",
              "    <tr>\n",
              "      <th>Camiseta</th>\n",
              "      <td>340</td>\n",
              "      <td>89598.18</td>\n",
              "    </tr>\n",
              "    <tr>\n",
              "      <th>Mochila</th>\n",
              "      <td>333</td>\n",
              "      <td>88173.71</td>\n",
              "    </tr>\n",
              "  </tbody>\n",
              "</table>\n",
              "</div>"
            ],
            "text/plain": [
              "               Quantidade  Valor Total (R$)\n",
              "Produto                                    \n",
              "Boné                  408         111871.03\n",
              "Calça Jeans           374         111731.37\n",
              "Jaqueta               371         110633.95\n",
              "Tênis                 403         109261.13\n",
              "Óculos de Sol         405         102118.74\n",
              "Relógio               340          89758.33\n",
              "Camiseta              340          89598.18\n",
              "Mochila               333          88173.71"
            ]
          },
          "execution_count": 21,
          "metadata": {},
          "output_type": "execute_result"
        }
      ],
      "source": [
        "dataset_vendas.groupby(\"Produto\")[[\"Quantidade\", \"Valor Total (R$)\"]].sum().round(2).sort_values(by='Valor Total (R$)', ascending = False)"
      ]
    },
    {
      "cell_type": "code",
      "execution_count": 22,
      "metadata": {
        "id": "od59drKfDuQY"
      },
      "outputs": [],
      "source": [
        "dataset_vendas[\"Mês\"] = dataset_vendas[\"Data da Venda\"].dt.to_period(\"M\")"
      ]
    },
    {
      "cell_type": "code",
      "execution_count": 23,
      "metadata": {
        "id": "JMPpynXrD1o_"
      },
      "outputs": [
        {
          "data": {
            "text/plain": [
              "<Axes: xlabel='Mês'>"
            ]
          },
          "execution_count": 23,
          "metadata": {},
          "output_type": "execute_result"
        },
        {
          "data": {
            "image/png": "[encoded data removed]",
            "text/plain": [
              "<Figure size 640x480 with 1 Axes>"
            ]
          },
          "metadata": {},
          "output_type": "display_data"
        }
      ],
      "source": [
        "dataset_vendas.groupby(\"Mês\")[\"Valor Total (R$)\"].sum().plot(kind='bar')"
      ]
    },
    {
      "cell_type": "code",
      "execution_count": 24,
      "metadata": {
        "id": "uVOVjJMuEfnF"
      },
      "outputs": [
        {
          "data": {
            "text/plain": [
              "UF\n",
              "NE    27162.09\n",
              "OR    25274.00\n",
              "AZ    25209.60\n",
              "WV    24249.73\n",
              "AL    22953.34\n",
              "Name: Valor Total (R$), dtype: float64"
            ]
          },
          "execution_count": 24,
          "metadata": {},
          "output_type": "execute_result"
        }
      ],
      "source": [
        "dataset_vendas.groupby(\"UF\")[\"Valor Total (R$)\"].sum().sort_values(ascending = False).head(5)"
      ]
    },
    {
      "cell_type": "code",
      "execution_count": 25,
      "metadata": {
        "id": "gj0JgocGE3K5"
      },
      "outputs": [
        {
          "data": {
            "text/plain": [
              "Cidade\n",
              "South Michael     3584.19\n",
              "Matthewchester    3417.60\n",
              "South Brenda      2909.20\n",
              "Jessemouth        2719.35\n",
              "Williamsberg      2704.26\n",
              "Name: Valor Total (R$), dtype: float64"
            ]
          },
          "execution_count": 25,
          "metadata": {},
          "output_type": "execute_result"
        }
      ],
      "source": [
        "dataset_vendas.groupby(\"Cidade\")[\"Valor Total (R$)\"].sum().sort_values(ascending = False).head(5)"
      ]
    },
    {
      "cell_type": "code",
      "execution_count": 26,
      "metadata": {
        "id": "z5DrmYqwFGbJ"
      },
      "outputs": [
        {
          "data": {
            "text/plain": [
              "<Axes: ylabel='Valor Total (R$)'>"
            ]
          },
          "execution_count": 26,
          "metadata": {},
          "output_type": "execute_result"
        },
        {
          "data": {
            "image/png": "[encoded data removed]",
            "text/plain": [
              "<Figure size 700x700 with 1 Axes>"
            ]
          },
          "metadata": {},
          "output_type": "display_data"
        }
      ],
      "source": [
        "dataset_vendas.groupby('Categoria')['Valor Total (R$)'].sum().plot(kind='pie', autopct='%1.1f%%', figsize=(7,7))"
      ]
    },
    {
      "cell_type": "code",
      "execution_count": 27,
      "metadata": {
        "id": "z4iL8IF4FNlk"
      },
      "outputs": [
        {
          "data": {
            "text/plain": [
              "Cliente\n",
              "Amanda Harris           3005.43\n",
              "Robert Howard           2696.68\n",
              "James Brown             2598.02\n",
              "Nicole Stein            2464.20\n",
              "Mr. Jeffrey Munoz MD    2461.80\n",
              "                         ...   \n",
              "John Roberts              44.95\n",
              "Cindy Rios                42.39\n",
              "Samantha Thomas           36.24\n",
              "Mark Miller               32.36\n",
              "Devon Smith               30.40\n",
              "Name: Valor Total (R$), Length: 988, dtype: float64"
            ]
          },
          "execution_count": 27,
          "metadata": {},
          "output_type": "execute_result"
        }
      ],
      "source": [
        "clientes_vip = dataset_vendas.groupby(\"Cliente\")[\"Valor Total (R$)\"].sum().sort_values(ascending = False)\n",
        "clientes_vip"
      ]
    },
    {
      "cell_type": "code",
      "execution_count": 28,
      "metadata": {
        "id": "haRtTuPDFe3g"
      },
      "outputs": [
        {
          "data": {
            "text/plain": [
              "Cliente\n",
              "Amanda Harris           3005.43\n",
              "Robert Howard           2696.68\n",
              "James Brown             2598.02\n",
              "Nicole Stein            2464.20\n",
              "Mr. Jeffrey Munoz MD    2461.80\n",
              "                         ...   \n",
              "Christopher Romero      1007.64\n",
              "Jeremy Johnson          1004.32\n",
              "Calvin Gonzalez         1002.56\n",
              "Debra King              1002.51\n",
              "Richard Griffith        1002.36\n",
              "Name: Valor Total (R$), Length: 323, dtype: float64"
            ]
          },
          "execution_count": 28,
          "metadata": {},
          "output_type": "execute_result"
        }
      ],
      "source": [
        "clientes_vip[clientes_vip > 1000].sort_values(ascending = False)"
      ]
    }
  ],
  "metadata": {
    "colab": {
      "provenance": []
    },
    "kernelspec": {
      "display_name": "base",
      "language": "python",
      "name": "python3"
    },
    "language_info": {
      "codemirror_mode": {
        "name": "ipython",
        "version": 3
      },
      "file_extension": ".py",
      "mimetype": "text/x-python",
      "name": "python",
      "nbconvert_exporter": "python",
      "pygments_lexer": "ipython3",
      "version": "3.12.7"
    }
  },
  "nbformat": 4,
  "nbformat_minor": 0
}
